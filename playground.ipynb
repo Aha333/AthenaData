{
 "cells": [
  {
   "cell_type": "code",
   "execution_count": 2,
   "id": "98b9a14a-ff15-4425-8b63-b0d8f72d7aa8",
   "metadata": {},
   "outputs": [
    {
     "name": "stdout",
     "output_type": "stream",
     "text": [
      "Z**2 sum per sample: [14 77]\n"
     ]
    },
    {
     "ename": "ValueError",
     "evalue": "operands could not be broadcast together with shapes (2,) (3,) ",
     "output_type": "error",
     "traceback": [
      "\u001b[0;31m---------------------------------------------------------------------------\u001b[0m",
      "\u001b[0;31mValueError\u001b[0m                                Traceback (most recent call last)",
      "Cell \u001b[0;32mIn[2], line 14\u001b[0m\n\u001b[1;32m     11\u001b[0m Z_squared_sum \u001b[38;5;241m=\u001b[39m np\u001b[38;5;241m.\u001b[39msum(Z\u001b[38;5;241m*\u001b[39m\u001b[38;5;241m*\u001b[39m\u001b[38;5;241m2\u001b[39m, axis\u001b[38;5;241m=\u001b[39m\u001b[38;5;241m1\u001b[39m)  \u001b[38;5;66;03m# 对每个样本计算协变量的平方和\u001b[39;00m\n\u001b[1;32m     12\u001b[0m \u001b[38;5;28mprint\u001b[39m(\u001b[38;5;124m\"\u001b[39m\u001b[38;5;124mZ**2 sum per sample:\u001b[39m\u001b[38;5;124m\"\u001b[39m, Z_squared_sum)  \u001b[38;5;66;03m# [1^2 + 2^2 + 3^2, 4^2 + 5^2 + 6^2] = [14, 77]\u001b[39;00m\n\u001b[0;32m---> 14\u001b[0m result_1 \u001b[38;5;241m=\u001b[39m \u001b[43mZ_squared_sum\u001b[49m\u001b[43m \u001b[49m\u001b[38;5;241;43m*\u001b[39;49m\u001b[43m \u001b[49m\u001b[43mgamma\u001b[49m  \u001b[38;5;66;03m# 对应元素相乘\u001b[39;00m\n\u001b[1;32m     15\u001b[0m \u001b[38;5;28mprint\u001b[39m(\u001b[38;5;124m\"\u001b[39m\u001b[38;5;124mResult of np.sum(Z**2, axis=1) * gamma:\u001b[39m\u001b[38;5;124m\"\u001b[39m, result_1)  \u001b[38;5;66;03m# [14*0.4, 77*0.6] = [5.6, 46.2]\u001b[39;00m\n\u001b[1;32m     17\u001b[0m \u001b[38;5;66;03m# 2. Z.dot(betas)\u001b[39;00m\n",
      "\u001b[0;31mValueError\u001b[0m: operands could not be broadcast together with shapes (2,) (3,) "
     ]
    }
   ],
   "source": [
    "\n",
    "import numpy as np\n",
    "\n",
    "# 假设数据样本数为 2，协变量数为 3\n",
    "Z = np.array([[1, 2, 3],  # 第一个样本\n",
    "              [4, 5, 6]]) # 第二个样本\n",
    "\n",
    "betas = np.array([0.1, 0.2, 0.3])  # 系数betas\n",
    "gamma = np.array([0.4, 0.5, 0.6])  # 系数gamma\n",
    "\n",
    "# 1. np.sum(Z**2, axis=1) * gamma\n",
    "Z_squared_sum = np.sum(Z**2, axis=1)  # 对每个样本计算协变量的平方和\n",
    "print(\"Z**2 sum per sample:\", Z_squared_sum)  # [1^2 + 2^2 + 3^2, 4^2 + 5^2 + 6^2] = [14, 77]\n",
    "\n",
    "result_1 = Z_squared_sum * gamma  # 对应元素相乘\n",
    "print(\"Result of np.sum(Z**2, axis=1) * gamma:\", result_1)  # [14*0.4, 77*0.6] = [5.6, 46.2]\n",
    "\n",
    "# 2. Z.dot(betas)\n",
    "result_2 = Z.dot(betas)  # 每个样本的线性组合\n",
    "print(\"Result of Z.dot(betas):\", result_2) "
   ]
  },
  {
   "cell_type": "code",
   "execution_count": null,
   "id": "7f8395fc-94a7-4f53-bf88-602c12f2d0ea",
   "metadata": {},
   "outputs": [],
   "source": []
  }
 ],
 "metadata": {
  "kernelspec": {
   "display_name": "venv_athenadata",
   "language": "python",
   "name": "venv_athenadata"
  },
  "language_info": {
   "codemirror_mode": {
    "name": "ipython",
    "version": 3
   },
   "file_extension": ".py",
   "mimetype": "text/x-python",
   "name": "python",
   "nbconvert_exporter": "python",
   "pygments_lexer": "ipython3",
   "version": "3.11.4"
  }
 },
 "nbformat": 4,
 "nbformat_minor": 5
}
