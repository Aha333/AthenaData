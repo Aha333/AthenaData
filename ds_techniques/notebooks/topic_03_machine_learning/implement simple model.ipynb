{
 "cells": [
  {
   "cell_type": "code",
   "execution_count": 1,
   "id": "32b7cd5e-178b-46bc-af68-b04f04313ae1",
   "metadata": {},
   "outputs": [],
   "source": [
    "# tree model\n",
    "# linear regresion"
   ]
  },
  {
   "cell_type": "code",
   "execution_count": null,
   "id": "415e42a3-9d1c-4488-a4b1-0f568683f8fb",
   "metadata": {},
   "outputs": [],
   "source": []
  }
 ],
 "metadata": {
  "kernelspec": {
   "display_name": "venv_athenadata",
   "language": "python",
   "name": "venv_athenadata"
  },
  "language_info": {
   "codemirror_mode": {
    "name": "ipython",
    "version": 3
   },
   "file_extension": ".py",
   "mimetype": "text/x-python",
   "name": "python",
   "nbconvert_exporter": "python",
   "pygments_lexer": "ipython3",
   "version": "3.11.4"
  }
 },
 "nbformat": 4,
 "nbformat_minor": 5
}
