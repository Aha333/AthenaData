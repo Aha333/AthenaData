{
 "cells": [
  {
   "cell_type": "code",
   "execution_count": 11,
   "id": "99beba59",
   "metadata": {},
   "outputs": [
    {
     "ename": "ImportError",
     "evalue": "cannot import name 'calculate_sample_size' from 'data.gen_sample_ab' (/Users/daweideng/Documents/AthenaData/ds_techniques/notebooks/topic_01_statistics/data/gen_sample_ab.py)",
     "output_type": "error",
     "traceback": [
      "\u001b[0;31m---------------------------------------------------------------------------\u001b[0m",
      "\u001b[0;31mImportError\u001b[0m                               Traceback (most recent call last)",
      "Cell \u001b[0;32mIn[11], line 7\u001b[0m\n\u001b[1;32m      4\u001b[0m sys\u001b[38;5;241m.\u001b[39mpath\u001b[38;5;241m.\u001b[39mappend(os\u001b[38;5;241m.\u001b[39mpath\u001b[38;5;241m.\u001b[39mabspath(os\u001b[38;5;241m.\u001b[39mpath\u001b[38;5;241m.\u001b[39mjoin(os\u001b[38;5;241m.\u001b[39mgetcwd(), \u001b[38;5;124m'\u001b[39m\u001b[38;5;124m../..\u001b[39m\u001b[38;5;124m'\u001b[39m)))\n\u001b[1;32m      5\u001b[0m \u001b[38;5;28;01mimport\u001b[39;00m\u001b[38;5;250m \u001b[39m\u001b[38;5;21;01mdata\u001b[39;00m\n\u001b[0;32m----> 7\u001b[0m \u001b[38;5;28;01mfrom\u001b[39;00m\u001b[38;5;250m \u001b[39m\u001b[38;5;21;01mdata\u001b[39;00m\u001b[38;5;21;01m.\u001b[39;00m\u001b[38;5;21;01mgen_sample_ab\u001b[39;00m\u001b[38;5;250m \u001b[39m\u001b[38;5;28;01mimport\u001b[39;00m generate_ab_data, plot_ab_distributions,calculate_sample_size\n\u001b[1;32m      8\u001b[0m \u001b[38;5;28;01mfrom\u001b[39;00m\u001b[38;5;250m \u001b[39m\u001b[38;5;21;01mutils\u001b[39;00m\u001b[38;5;21;01m.\u001b[39;00m\u001b[38;5;21;01mutils_ab_test\u001b[39;00m\u001b[38;5;250m \u001b[39m\u001b[38;5;28;01mimport\u001b[39;00m calculate_ratio_confidence_intervals, calculate_sample_size\n",
      "\u001b[0;31mImportError\u001b[0m: cannot import name 'calculate_sample_size' from 'data.gen_sample_ab' (/Users/daweideng/Documents/AthenaData/ds_techniques/notebooks/topic_01_statistics/data/gen_sample_ab.py)"
     ]
    }
   ],
   "source": [
    "# independent project\n",
    "import sys\n",
    "import os\n",
    "sys.path.append(os.path.abspath(os.path.join(os.getcwd(), '../..')))\n",
    "import data\n",
    "\n",
    "from data.gen_sample_ab import generate_ab_data, plot_ab_distributions\n",
    "from utils.utils_ab_test import calculate_ratio_confidence_intervals, calculate_sample_size"
   ]
  },
  {
   "cell_type": "code",
   "execution_count": 3,
   "id": "44a9c9d4",
   "metadata": {},
   "outputs": [
    {
     "name": "stdout",
     "output_type": "stream",
     "text": [
      "\n",
      "Theoretical Statistics:\n",
      "Note: Theoretical statistics before applying bounds:\n",
      "Control Group - Mean: 9.75, Std: 79.92\n",
      "Treatment Group - Mean: 9.84, Std: 80.72\n",
      "Warning: Actual means and standard deviations will be affected by bounds: [-inf, inf]\n"
     ]
    }
   ],
   "source": [
    "true_relative_diff = 0.01\n",
    "\n",
    "\n",
    "df= generate_ab_data(\n",
    "        n_samples=100000,\n",
    "        data_type='skewed',\n",
    "        control_mean=0.5,  # mean parameter for log-normal\n",
    "        treatment_relative_effect=true_relative_diff,\n",
    "        sigma=2,\n",
    "        zero_prob=0.2,\n",
    "        lower_bound=-float('inf'),\n",
    "        upper_bound=float('inf'),\n",
    "        random_state=42\n",
    "    )"
   ]
  },
  {
   "cell_type": "code",
   "execution_count": 8,
   "id": "88b86285",
   "metadata": {},
   "outputs": [],
   "source": [
    "import numpy as np\n",
    "df['log_value'] = np.log1p(df['value'])"
   ]
  },
  {
   "cell_type": "code",
   "execution_count": 9,
   "id": "4ec5dcfe",
   "metadata": {},
   "outputs": [
    {
     "name": "stdout",
     "output_type": "stream",
     "text": [
      "(9.397025780517378, 53.364336509774944)\n",
      "(1.0674487214977908, 1.2189377037252775)\n"
     ]
    }
   ],
   "source": [
    "# write a function to return mean, std for given col of df\n",
    "def get_mean_std(df, col):\n",
    "    return df[col].mean(), df[col].std()\n",
    "\n",
    "# test the function\n",
    "print(get_mean_std(df, 'value'))\n",
    "print(get_mean_std(df, 'log_value'))"
   ]
  },
  {
   "cell_type": "code",
   "execution_count": null,
   "id": "bc316117",
   "metadata": {},
   "outputs": [],
   "source": []
  }
 ],
 "metadata": {
  "kernelspec": {
   "display_name": "venv_athenadata",
   "language": "python",
   "name": "venv_athenadata"
  },
  "language_info": {
   "codemirror_mode": {
    "name": "ipython",
    "version": 3
   },
   "file_extension": ".py",
   "mimetype": "text/x-python",
   "name": "python",
   "nbconvert_exporter": "python",
   "pygments_lexer": "ipython3",
   "version": "3.11.4"
  }
 },
 "nbformat": 4,
 "nbformat_minor": 5
}
