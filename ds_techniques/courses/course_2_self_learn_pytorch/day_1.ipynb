{
 "cells": [
  {
   "cell_type": "code",
   "execution_count": 4,
   "id": "0751b48e-e4eb-4389-baaa-695e39fde1f8",
   "metadata": {},
   "outputs": [],
   "source": [
    "# nn.Module 是 PyTorch 中所有神经网络模块（层和整个网络模型）的基类，它帮助我们管理网络的各个层、定义网络的前向传播，并自动处理反向传播和优化过程中的梯度计算。"
   ]
  },
  {
   "cell_type": "code",
   "execution_count": 7,
   "id": "4fe2346f-1715-4a7d-b66c-fcb28f0b1a19",
   "metadata": {},
   "outputs": [
    {
     "name": "stdout",
     "output_type": "stream",
     "text": [
      "SimpleModel(\n",
      "  (fc1): Linear(in_features=2, out_features=5, bias=True)\n",
      "  (fc2): Linear(in_features=5, out_features=1, bias=True)\n",
      ")\n"
     ]
    }
   ],
   "source": [
    "import torch\n",
    "import torch.nn as nn\n",
    "\n",
    "class SimpleModel(nn.Module):\n",
    "    def __init__(self):\n",
    "        super(SimpleModel, self).__init__()\n",
    "        # 定义网络的层\n",
    "        self.fc1 = nn.Linear(2, 5)  # 输入2维，输出5维\n",
    "        self.fc2 = nn.Linear(5, 1)  # 输入5维，输出1维\n",
    "\n",
    "    def forward(self, x):\n",
    "        # 定义前向传播\n",
    "        x = torch.relu(self.fc1(x))  # 使用ReLU激活函数\n",
    "        x = self.fc2(x)\n",
    "        return x\n",
    "\n",
    "# 创建模型实例\n",
    "model = SimpleModel()\n",
    "\n",
    "# 查看模型的结构\n",
    "print(model)"
   ]
  },
  {
   "cell_type": "code",
   "execution_count": 2,
   "id": "9dc1b392-dac7-4fac-b415-45b2c7b62739",
   "metadata": {},
   "outputs": [
    {
     "name": "stdout",
     "output_type": "stream",
     "text": [
      "SimpleCNN(\n",
      "  (conv1): Conv2d(1, 16, kernel_size=(3, 3), stride=(1, 1))\n",
      "  (pool): MaxPool2d(kernel_size=2, stride=2, padding=0, dilation=1, ceil_mode=False)\n",
      "  (conv2): Conv2d(16, 32, kernel_size=(3, 3), stride=(1, 1))\n",
      "  (fc1): Linear(in_features=1152, out_features=120, bias=True)\n",
      "  (fc2): Linear(in_features=120, out_features=84, bias=True)\n",
      "  (fc3): Linear(in_features=84, out_features=10, bias=True)\n",
      ")\n"
     ]
    }
   ],
   "source": [
    "import torch\n",
    "import torch.nn as nnaa\n",
    "import torch.nn.functional as F\n",
    "\n",
    "class SimpleCNN(nn.Module):\n",
    "    def __init__(self):\n",
    "        super(SimpleCNN, self).__init__()\n",
    "        # 卷积层1，输入1通道，输出16通道，卷积核大小3x3\n",
    "        self.conv1 = nn.Conv2d(1, 16, kernel_size=3)\n",
    "        # 池化层1，2x2最大池化\n",
    "        self.pool = nn.MaxPool2d(2, 2)\n",
    "        # 卷积层2，输入16通道，输出32通道，卷积核大小3x3\n",
    "        self.conv2 = nn.Conv2d(16, 32, kernel_size=3)\n",
    "        # 全连接层1\n",
    "        self.fc1 = nn.Linear(32 * 6 * 6, 120)\n",
    "        # 全连接层2\n",
    "        self.fc2 = nn.Linear(120, 84)\n",
    "        # 输出层\n",
    "        self.fc3 = nn.Linear(84, 10)\n",
    "\n",
    "    def forward(self, x):\n",
    "        x = self.pool(F.relu(self.conv1(x)))  # 第一个卷积层 + ReLU + 池化\n",
    "        x = self.pool(F.relu(self.conv2(x)))  # 第二个卷积层 + ReLU + 池化\n",
    "        x = torch.flatten(x, 1)  # 展平层\n",
    "        x = F.relu(self.fc1(x))  # 第一个全连接层 + ReLU\n",
    "        x = F.relu(self.fc2(x))  # 第二个全连接层 + ReLU\n",
    "        x = self.fc3(x)  # 输出层\n",
    "        return x\n",
    "\n",
    "# 创建CNN模型\n",
    "model = SimpleCNN()\n",
    "print(model)"
   ]
  },
  {
   "cell_type": "code",
   "execution_count": 5,
   "id": "c6ecf1db-3770-44fc-ab44-2b115c9dda74",
   "metadata": {},
   "outputs": [
    {
     "name": "stdout",
     "output_type": "stream",
     "text": [
      "Epoch 0, Loss: 2.575115203857422\n",
      "Epoch 10, Loss: 2.272437572479248\n",
      "Epoch 20, Loss: 2.133155107498169\n",
      "Epoch 30, Loss: 2.061253309249878\n",
      "Epoch 40, Loss: 2.021310567855835\n",
      "Epoch 50, Loss: 1.99771249294281\n",
      "Epoch 60, Loss: 1.982826590538025\n",
      "Epoch 70, Loss: 1.9726775884628296\n",
      "Epoch 80, Loss: 1.9651094675064087\n",
      "Epoch 90, Loss: 1.9589207172393799\n"
     ]
    }
   ],
   "source": [
    "import torch.optim as optim\n",
    "\n",
    "# 创建模型\n",
    "model = SimpleModel()\n",
    "\n",
    "# 定义损失函数（均方误差）\n",
    "criterion = nn.MSELoss()\n",
    "\n",
    "# 定义优化器（SGD优化器）\n",
    "optimizer = optim.SGD(model.parameters(), lr=0.01)\n",
    "\n",
    "# 假设我们有一些训练数据\n",
    "inputs = torch.randn(5, 2)  # 假设5个样本，2个特征\n",
    "labels = torch.randn(5, 1)  # 5个标签\n",
    "\n",
    "# 训练过程\n",
    "for epoch in range(100):\n",
    "    # 前向传播\n",
    "    outputs = model(inputs)\n",
    "    \n",
    "    # 计算损失\n",
    "    loss = criterion(outputs, labels)\n",
    "    \n",
    "    # 反向传播\n",
    "    optimizer.zero_grad()  # 清除梯度\n",
    "    loss.backward()        # 计算梯度\n",
    "    optimizer.step()       # 更新参数\n",
    "\n",
    "    # 打印每100步的损失值\n",
    "    if epoch % 10 == 0:\n",
    "        print(f\"Epoch {epoch}, Loss: {loss.item()}\")"
   ]
  },
  {
   "cell_type": "code",
   "execution_count": null,
   "id": "3011ac73-2892-414b-a81c-8f45886e82df",
   "metadata": {},
   "outputs": [],
   "source": []
  }
 ],
 "metadata": {
  "kernelspec": {
   "display_name": "venv_athenadata",
   "language": "python",
   "name": "venv_athenadata"
  },
  "language_info": {
   "codemirror_mode": {
    "name": "ipython",
    "version": 3
   },
   "file_extension": ".py",
   "mimetype": "text/x-python",
   "name": "python",
   "nbconvert_exporter": "python",
   "pygments_lexer": "ipython3",
   "version": "3.11.4"
  }
 },
 "nbformat": 4,
 "nbformat_minor": 5
}
