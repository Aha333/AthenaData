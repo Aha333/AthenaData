{
 "cells": [
  {
   "cell_type": "code",
   "execution_count": 5,
   "id": "63922054-ebb4-4d2b-b95c-7dd0345836cc",
   "metadata": {},
   "outputs": [],
   "source": [
    "from pyspark.sql import SparkSession\n",
    "\n",
    "# Create a new Spark session\n",
    "spark = SparkSession.builder.appName(\"MySparkSession\").getOrCreate()"
   ]
  },
  {
   "cell_type": "code",
   "execution_count": 9,
   "id": "5f6193b2-1ade-4fb0-94df-2377e8816e87",
   "metadata": {},
   "outputs": [
    {
     "data": {
      "text/plain": [
       "'/Users/daweideng/Documents/AthenaData'"
      ]
     },
     "execution_count": 9,
     "metadata": {},
     "output_type": "execute_result"
    }
   ],
   "source": [
    "pwd"
   ]
  },
  {
   "cell_type": "code",
   "execution_count": 6,
   "id": "3909a92d-9d1c-46e8-8e95-c0673a6219f7",
   "metadata": {},
   "outputs": [],
   "source": [
    "from pyspark.sql import SparkSession\n",
    "\n",
    "# Create a Spark session with local mode explicitly set\n",
    "spark = SparkSession.builder \\\n",
    "    .appName(\"MySparkSession\") \\\n",
    "    .master(\"local\") \\\n",
    "    .getOrCreate()"
   ]
  },
  {
   "cell_type": "code",
   "execution_count": 7,
   "id": "688e2666-b532-441d-86c1-77d2ca136b99",
   "metadata": {},
   "outputs": [],
   "source": [
    "spark = SparkSession.builder \\\n",
    "    .appName(\"MySparkSession\") \\\n",
    "    .config(\"spark.security.manager\", \"false\") \\\n",
    "    .getOrCreate()"
   ]
  },
  {
   "cell_type": "code",
   "execution_count": 8,
   "id": "b20e9da0-4627-424a-9cf6-fbab535de3d2",
   "metadata": {},
   "outputs": [
    {
     "name": "stderr",
     "output_type": "stream",
     "text": [
      "25/02/16 10:26:25 WARN SparkSession: Using an existing Spark session; only runtime SQL configurations will take effect.\n",
      "25/02/16 10:26:25 WARN SparkSession: Using an existing Spark session; only runtime SQL configurations will take effect.\n"
     ]
    },
    {
     "name": "stdout",
     "output_type": "stream",
     "text": [
      "1. Creating RDDs:\n",
      "\n",
      "2. Basic Transformations:\n"
     ]
    },
    {
     "name": "stderr",
     "output_type": "stream",
     "text": [
      "                                                                                \r"
     ]
    },
    {
     "name": "stdout",
     "output_type": "stream",
     "text": [
      "Squared numbers: [1, 4, 9, 16, 25]\n",
      "Even numbers: [2, 4]\n",
      "\n",
      "3. Key-Value RDD Operations:\n",
      "Grouped by key: [(1, ['a', 'c']), (2, ['b'])]\n",
      "Word counts: [('apple', 2), ('banana', 1)]\n",
      "\n",
      "4. RDD Actions:\n",
      "Count: 5\n",
      "Sum: 15\n",
      "Collected data: [1, 2, 3, 4, 5]\n",
      "\n",
      "5. Advanced Operations:\n",
      "Words after flatMap: ['Hello', 'World', 'How', 'are', 'you']\n",
      "Distinct values: [1, 2, 3]\n"
     ]
    }
   ],
   "source": [
    "import findspark\n",
    "findspark.init()\n",
    "from pyspark.sql import SparkSession\n",
    "spark = SparkSession.builder.appName(\"MyApp\").getOrCreate()\n",
    "\n",
    "\n",
    "from pyspark.sql import SparkSession\n",
    "import numpy as np\n",
    "\n",
    "def explain_rdd_basics():\n",
    "    \"\"\"\n",
    "    Demonstrates basic RDD (Resilient Distributed Dataset) operations in PySpark\n",
    "    \"\"\"\n",
    "    # Create a Spark session\n",
    "    spark = SparkSession.builder.appName(\"RDD_Examples\").getOrCreate()\n",
    "    sc = spark.sparkContext\n",
    "\n",
    "    # 1. Creating RDDs\n",
    "    print(\"1. Creating RDDs:\")\n",
    "    # From a list\n",
    "    numbers_rdd = sc.parallelize([1, 2, 3, 4, 5])\n",
    "    # From a text file\n",
    "    # text_rdd = sc.textFile(\"example.txt\")  # Uncomment to read from file\n",
    "    \n",
    "    # 2. Basic Transformations\n",
    "    print(\"\\n2. Basic Transformations:\")\n",
    "    # Map: Apply function to each element\n",
    "    squared_rdd = numbers_rdd.map(lambda x: x**2)\n",
    "    print(\"Squared numbers:\", squared_rdd.collect())\n",
    "    \n",
    "    # Filter: Keep elements that satisfy condition\n",
    "    even_rdd = numbers_rdd.filter(lambda x: x % 2 == 0)\n",
    "    print(\"Even numbers:\", even_rdd.collect())\n",
    "    \n",
    "    # 3. Key-Value RDD Operations\n",
    "    print(\"\\n3. Key-Value RDD Operations:\")\n",
    "    key_value_rdd = sc.parallelize([(1, \"a\"), (2, \"b\"), (1, \"c\")])\n",
    "    \n",
    "    # GroupByKey\n",
    "    grouped = key_value_rdd.groupByKey().mapValues(list)\n",
    "    print(\"Grouped by key:\", grouped.collect())\n",
    "    \n",
    "    # ReduceByKey\n",
    "    word_counts = sc.parallelize([(\"apple\", 1), (\"banana\", 1), (\"apple\", 1)])\n",
    "    reduced = word_counts.reduceByKey(lambda a, b: a + b)\n",
    "    print(\"Word counts:\", reduced.collect())\n",
    "    \n",
    "    # 4. Actions\n",
    "    print(\"\\n4. RDD Actions:\")\n",
    "    # Count\n",
    "    print(\"Count:\", numbers_rdd.count())\n",
    "    # Sum\n",
    "    print(\"Sum:\", numbers_rdd.sum())\n",
    "    # Collect\n",
    "    print(\"Collected data:\", numbers_rdd.collect())\n",
    "    \n",
    "    # 5. Advanced Operations\n",
    "    print(\"\\n5. Advanced Operations:\")\n",
    "    # Flatmap\n",
    "    text_rdd = sc.parallelize([\"Hello World\", \"How are you\"])\n",
    "    words_rdd = text_rdd.flatMap(lambda x: x.split())\n",
    "    print(\"Words after flatMap:\", words_rdd.collect())\n",
    "    \n",
    "    # Distinct\n",
    "    duplicate_rdd = sc.parallelize([1, 1, 2, 2, 3, 3, 3])\n",
    "    distinct_rdd = duplicate_rdd.distinct()\n",
    "    print(\"Distinct values:\", distinct_rdd.collect())\n",
    "    \n",
    "    # Stop Spark session\n",
    "    spark.stop()\n",
    "\n",
    "if __name__ == \"__main__\":\n",
    "    explain_rdd_basics()\n"
   ]
  },
  {
   "cell_type": "code",
   "execution_count": null,
   "id": "6b97c7c4-8423-4c5c-9bde-0d20e43d0d9c",
   "metadata": {},
   "outputs": [],
   "source": []
  }
 ],
 "metadata": {
  "kernelspec": {
   "display_name": "venv_athenadata",
   "language": "python",
   "name": "venv_athenadata"
  },
  "language_info": {
   "codemirror_mode": {
    "name": "ipython",
    "version": 3
   },
   "file_extension": ".py",
   "mimetype": "text/x-python",
   "name": "python",
   "nbconvert_exporter": "python",
   "pygments_lexer": "ipython3",
   "version": "3.11.4"
  }
 },
 "nbformat": 4,
 "nbformat_minor": 5
}
